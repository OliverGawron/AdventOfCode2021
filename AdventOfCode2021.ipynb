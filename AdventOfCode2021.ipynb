{
  "nbformat": 4,
  "nbformat_minor": 0,
  "metadata": {
    "colab": {
      "name": "Copy of AdventOfCode2021.ipynb",
      "provenance": [],
      "collapsed_sections": [
        "ypyxl8QYsH7k"
      ],
      "authorship_tag": "ABX9TyOw2OH+xL0jd7f78INuctSv"
    },
    "kernelspec": {
      "name": "python3",
      "display_name": "Python 3"
    },
    "language_info": {
      "name": "python"
    }
  },
  "cells": [
    {
      "cell_type": "code",
      "execution_count": 2,
      "metadata": {
        "id": "Px68KzIWk5H0"
      },
      "outputs": [],
      "source": [
        "def getDataFromGitHub(day, name=\"Input\"):\n",
        "  import requests\n",
        "  repo = 'https://raw.githubusercontent.com/OliverGawron/AdventOfCode2021/main/Data/';\n",
        "  fullpath = repo + 'Day' + str(day) + '_' + name\n",
        "  r = requests.get(fullpath)\n",
        "  return r.text"
      ]
    },
    {
      "cell_type": "markdown",
      "source": [
        "#Day 1\n",
        "Part 1"
      ],
      "metadata": {
        "id": "ypyxl8QYsH7k"
      }
    },
    {
      "cell_type": "code",
      "source": [
        "depths = getDataFromGitHub(1,\"Input\")\n",
        "deptharray = depths.splitlines()\n",
        "\n",
        "SumMeasurementIncreased = 0\n",
        "for i in range(1,len(deptharray)):\n",
        "  if(int(deptharray[i]) > int(deptharray[i-1])):\n",
        "    SumMeasurementIncreased += 1;\n",
        "SumMeasurementIncreased"
      ],
      "metadata": {
        "colab": {
          "base_uri": "https://localhost:8080/"
        },
        "id": "V-MaOqMTsGwV",
        "outputId": "3297c75b-e47f-4bbe-81d5-9a50fa8d6cf3"
      },
      "execution_count": null,
      "outputs": [
        {
          "output_type": "execute_result",
          "data": {
            "text/plain": [
              "1688"
            ]
          },
          "metadata": {},
          "execution_count": 56
        }
      ]
    },
    {
      "cell_type": "markdown",
      "source": [
        "Part 2"
      ],
      "metadata": {
        "id": "Q9IFjfKszkT5"
      }
    },
    {
      "cell_type": "code",
      "source": [
        "depths = getDataFromGitHub(1)\n",
        "deptharray = depths.splitlines()\n",
        "\n",
        "SumMeasurementIncreased = 0\n",
        "for i in range(0,len(deptharray)-3):\n",
        "  bevore = int(deptharray[i])  #+ int(deptharray[i+1]) + int(deptharray[i+2])   #you dont need the +1 and +2 values, since they are the same\n",
        "  after = int(deptharray[i+3]) #+ int(deptharray[i+1]) + int(deptharray[i+2])\n",
        "  if(after > bevore):\n",
        "    SumMeasurementIncreased += 1;\n",
        "SumMeasurementIncreased"
      ],
      "metadata": {
        "colab": {
          "base_uri": "https://localhost:8080/"
        },
        "id": "JVBGAfeBykAR",
        "outputId": "d824a184-8487-430b-a85b-b20bdccbabda"
      },
      "execution_count": null,
      "outputs": [
        {
          "output_type": "execute_result",
          "data": {
            "text/plain": [
              "1728"
            ]
          },
          "metadata": {},
          "execution_count": 57
        }
      ]
    },
    {
      "cell_type": "markdown",
      "source": [
        "# Day 18"
      ],
      "metadata": {
        "id": "Y9h8kvfkCShx"
      }
    },
    {
      "cell_type": "code",
      "source": [
        "import math\n",
        "class SnailfishLeaf:\n",
        "  def __init__(self,num):\n",
        "    self.num = int(num)\n",
        "  def isnumeric(self):\n",
        "    return False\n",
        "  def toString(self):\n",
        "    return str(self.num)\n",
        "  def AddAtLeftmostIndex(self,r):\n",
        "    self.num += r\n",
        "  def AddAtRightmostIndex(self,l):\n",
        "    self.num += l\n",
        "  def shouldExplode(self,index):\n",
        "    return False,0,0,False\n",
        "  def split(self):\n",
        "    if self.num > 9:\n",
        "      left = math.floor(self.num/2)\n",
        "      right = math.ceil(self.num/2)\n",
        "      return True,left,right,False\n",
        "    return False,0,0,False\n",
        "  def Magnitude(self):\n",
        "    return self.num\n",
        "\n",
        "class SnailfishNumber:\n",
        "  def __init__(self, first,second):\n",
        "        if first.isnumeric():\n",
        "          first = SnailfishLeaf(first)\n",
        "        if second.isnumeric():\n",
        "          second = SnailfishLeaf(second)\n",
        "        self.first = first\n",
        "        self.second = second\n",
        "  def isnumeric(self):\n",
        "    return False\n",
        "  def onlynumbers(self):\n",
        "    if type(self.first) == SnailfishLeaf and type(self.second) == SnailfishLeaf:\n",
        "      return True\n",
        "    return False\n",
        "  def add(self,othersnailfishnumber):\n",
        "    self.first = SnailfishNumber(self.first,self.second)\n",
        "    self.second = othersnailfishnumber\n",
        "    self.reduce()\n",
        "  def reduce(self):\n",
        "    bevore = \"YYY\"\n",
        "    after = \"XXX\"\n",
        "    #print(\"Start: \\t \\t\" + self.toString())\n",
        "    while(bevore != after):\n",
        "      while(bevore != after):\n",
        "        bevore = self.toString()\n",
        "        self.shouldExplode(0)\n",
        "        after = self.toString()\n",
        "        #print(\"after explode: \\t\" + after)\n",
        "      bevore = self.toString()\n",
        "      self.split()\n",
        "      after = self.toString()\n",
        "      #print(\"after split: \\t\" + after)\n",
        "  def shouldExplode(self,iter): \n",
        "    if(self.onlynumbers()):\n",
        "      if(iter > 3):\n",
        "        return True,self.first.num,self.second.num,False\n",
        "      else:\n",
        "        return False,0,0,False\n",
        "\n",
        "    leftResult,l,r,cancel = self.first.shouldExplode(iter+1)\n",
        "    self.second.AddAtLeftmostIndex(r)\n",
        "    if(cancel):\n",
        "      return False,l,0,cancel\n",
        "    if(r != 0 or l != 0):     \n",
        "      if(leftResult):\n",
        "        self.first = SnailfishLeaf(0)\n",
        "      return False,l,0,True\n",
        "\n",
        "    rightResult,l,r,cancel = self.second.shouldExplode(iter+1)\n",
        "    self.first.AddAtRightmostIndex(l)\n",
        "    if(cancel):\n",
        "      return False,0,r,cancel\n",
        "    if(r != 0 or l != 0):      \n",
        "      if(rightResult):\n",
        "        self.second = SnailfishLeaf(0)    \n",
        "      return False,0,r,True\n",
        "    return False,0,0,False\n",
        "\n",
        "  def split(self):\n",
        "    x,l,r,cancel = self.first.split()\n",
        "    if cancel:\n",
        "      return False,0,0,True\n",
        "    if(x):\n",
        "      self.first = SnailfishNumber(SnailfishLeaf(l),SnailfishLeaf(r))\n",
        "      return False,0,0,True\n",
        "    x,l,r,cancel = self.second.split()\n",
        "    if cancel:\n",
        "      return False,0,0,True\n",
        "    if(x):\n",
        "      self.second = SnailfishNumber(SnailfishLeaf(l),SnailfishLeaf(r))\n",
        "      return False,0,0,True\n",
        "    return False,0,0,False\n",
        "  def AddAtLeftmostIndex(self,r):\n",
        "    self.first.AddAtLeftmostIndex(r)\n",
        "  def AddAtRightmostIndex(self,l):\n",
        "    self.second.AddAtRightmostIndex(l)\n",
        "  def Magnitude(self):\n",
        "    return 3*self.first.Magnitude() + 2*self.second.Magnitude()\n",
        "  def toString(self):\n",
        "    leftside = self.first.toString()\n",
        "    rightside = self.second.toString()\n",
        "    return \"[\" + leftside + \",\" + rightside + \"]\";\n",
        "    \n",
        "def parseSnailfishnumber(text):\n",
        "  if(text[0] is not '['):\n",
        "    print(\"ERROR!!!!!!!!!!!!!:     \" + text);\n",
        "  index = findcommaindex(text)\n",
        "\n",
        "  leftside = text[1:index]\n",
        "  rightside = text[index+1:-1]\n",
        "  leftsolution = -1;\n",
        "  righsolution = -1\n",
        "  if leftside.isnumeric():\n",
        "    leftsolution = leftside\n",
        "  else:\n",
        "    leftsolution = parseSnailfishnumber(leftside);\n",
        "  if rightside.isnumeric():\n",
        "    righsolution = rightside\n",
        "  else:\n",
        "    righsolution = parseSnailfishnumber(rightside);\n",
        "  return SnailfishNumber(leftsolution,righsolution)\n",
        "\n",
        "def findcommaindex(text):\n",
        "  counter = 0\n",
        "  for idx,char in enumerate(text):\n",
        "    if char == \"[\":\n",
        "      counter +=1\n",
        "    if char == \"]\":\n",
        "      counter -=1\n",
        "    if char == \",\" and counter == 1:\n",
        "      return idx\n",
        "\n",
        "input = getDataFromGitHub(18)\n",
        "inputarray = input.splitlines();\n",
        "\n",
        "a = parseSnailfishnumber(inputarray[0])\n",
        "for idx,put in enumerate(inputarray):\n",
        "  if(idx != 0):\n",
        "    b = parseSnailfishnumber(put)\n",
        "    a.add(b)\n",
        "\n",
        "b = a.Magnitude()\n",
        "print(b)"
      ],
      "metadata": {
        "id": "tElwBeEqCXvu",
        "outputId": "47b6308c-de0c-4a64-fa3b-0e6aec91614c",
        "colab": {
          "base_uri": "https://localhost:8080/"
        }
      },
      "execution_count": null,
      "outputs": [
        {
          "output_type": "stream",
          "name": "stdout",
          "text": [
            "3051\n"
          ]
        }
      ]
    },
    {
      "cell_type": "markdown",
      "source": [
        "Part 2"
      ],
      "metadata": {
        "id": "J97DRyluKnSK"
      }
    },
    {
      "cell_type": "code",
      "source": [
        "input = getDataFromGitHub(18)\n",
        "inputarray = input.splitlines();\n",
        "max = 0\n",
        "for idx,put in enumerate(inputarray):\n",
        "  for idx2,put2 in enumerate(inputarray):\n",
        "    a = parseSnailfishnumber(put)\n",
        "    b = parseSnailfishnumber(put2)\n",
        "    a.add(b)\n",
        "    mag = a.Magnitude()\n",
        "    if(mag > max):\n",
        "      max = mag\n",
        "print(max)"
      ],
      "metadata": {
        "colab": {
          "base_uri": "https://localhost:8080/"
        },
        "id": "PRiBvmdjKpmz",
        "outputId": "30d2033f-202e-4815-9bb2-782a2adff317"
      },
      "execution_count": null,
      "outputs": [
        {
          "output_type": "stream",
          "name": "stdout",
          "text": [
            "4812\n"
          ]
        }
      ]
    },
    {
      "cell_type": "markdown",
      "source": [
        "# Day 22\n",
        "Part 1\n",
        "\n",
        "In know this challenge is meant to be solved by calculating intersecting cubes, but i wantet to try it this way"
      ],
      "metadata": {
        "id": "l8-ohGvy2kly"
      }
    },
    {
      "cell_type": "code",
      "source": [
        "import numpy as np\n",
        "\n",
        "def getIntsFromStringTupel(coord):\n",
        "  Int0 = int(coord[0])\n",
        "  Int1 = int(coord[1])\n",
        "  return Int0,Int1\n",
        "\n",
        "def getInstuctionsFormatted():\n",
        "  instructions = getDataFromGitHub(22)\n",
        "  instructions = instructions.splitlines()\n",
        "  formated = []\n",
        "  for instruction in instructions:\n",
        "    line = formatOneInstruction(instruction)\n",
        "    formated.append(line)\n",
        "  return formated\n",
        "def formatOneInstruction(instruction):\n",
        "    splittedBySpace = instruction.split(' ')\n",
        "    action = splittedBySpace[0]\n",
        "\n",
        "    if action == \"on\":\n",
        "      action = 1\n",
        "    else:\n",
        "      action = 0\n",
        "\n",
        "    coordinates = splittedBySpace[1]\n",
        "    coordinates = coordinates.split(',')\n",
        "\n",
        "    for idx,cor in enumerate(coordinates):\n",
        "      tmp = cor.split(\"=\")\n",
        "      coordinates[idx] = tmp[1]\n",
        "\n",
        "    XCoordinates = coordinates[0].split('..')\n",
        "    YCoordinates = coordinates[1].split('..')\n",
        "    ZCoordinates = coordinates[2].split('..')\n",
        "\n",
        "    XCoordinates =  getIntsFromStringTupel(XCoordinates)\n",
        "    YCoordinates =  getIntsFromStringTupel(YCoordinates)\n",
        "    ZCoordinates =  getIntsFromStringTupel(ZCoordinates)\n",
        "\n",
        "    return action,XCoordinates,YCoordinates,ZCoordinates\n",
        "\n",
        "def getMinMax(instructions):\n",
        "  lowestX = 0\n",
        "  highestX = 0\n",
        "\n",
        "  lowestY = 0\n",
        "  highestY = 0\n",
        "\n",
        "  lowestZ = 0\n",
        "  highestZ = 0\n",
        "  for instruction in instructions:\n",
        "    if(lowestX > instruction[1][0]):\n",
        "      lowestX = instruction[1][0]\n",
        "    if(highestX < instruction[1][1]):\n",
        "      highestX = instruction[1][1]\n",
        "    if(lowestY > instruction[2][0]):\n",
        "      lowestY = instruction[2][0]\n",
        "    if(highestY < instruction[2][1]):\n",
        "      highestY = instruction[2][1]\n",
        "    if(lowestZ > instruction[3][0]):\n",
        "      lowestZ = instruction[3][0]\n",
        "    if(highestZ < instruction[3][1]):\n",
        "      highestZ = instruction[3][1]\n",
        "  return lowestX,highestX,lowestY,highestY,lowestZ,highestZ\n",
        "\n",
        "def runThrougAllInstructions(x,y,z,instructions):\n",
        "  val = 0\n",
        "  for instruction in instructions:\n",
        "    if CoordIsInInstruction(x,y,z,instruction):\n",
        "      val = instruction[0]\n",
        "  return val\n",
        "def CoordIsInInstruction(x,y,z,instruction):\n",
        "  if(x >= instruction[1][0] and x <= instruction [1][1]):\n",
        "    if(y >= instruction[2][0] and y <= instruction [2][1]):\n",
        "      if(z >= instruction[3][0] and z <= instruction [3][1]):\n",
        "        return True\n",
        "  return False\n",
        "\n",
        "instructions = getInstuctionsFormatted()\n",
        "minX,maxX,minY,maxY,minZ,maxZ = -50,50,-50,50,-50,50 #For Part 1, same Solution for Part 2 would be getMinMax(instructions), but this would take too long\n",
        "sum = 0\n",
        "for x in range(minX,maxX+1):\n",
        "  for y in range(minY,maxY+1):\n",
        "    for z in range(minZ,maxZ+1):\n",
        "      sum = sum + runThrougAllInstructions(x,y,z,instructions)\n",
        "print(sum)"
      ],
      "metadata": {
        "id": "6oEBbffL2r-k",
        "outputId": "3183cd4d-e195-433b-aaa5-73e584c77fe2",
        "colab": {
          "base_uri": "https://localhost:8080/"
        }
      },
      "execution_count": 73,
      "outputs": [
        {
          "output_type": "stream",
          "name": "stdout",
          "text": [
            "623748\n"
          ]
        }
      ]
    }
  ]
}