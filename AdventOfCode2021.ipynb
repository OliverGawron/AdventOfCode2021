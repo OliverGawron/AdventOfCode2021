{
  "nbformat": 4,
  "nbformat_minor": 0,
  "metadata": {
    "colab": {
      "name": "AdventOfCode2021.ipynb",
      "provenance": [],
      "collapsed_sections": [],
      "authorship_tag": "ABX9TyMFpRb4oxcw3nzKBdeR/8Mp",
      "include_colab_link": true
    },
    "kernelspec": {
      "name": "python3",
      "display_name": "Python 3"
    },
    "language_info": {
      "name": "python"
    }
  },
  "cells": [
    {
      "cell_type": "markdown",
      "metadata": {
        "id": "view-in-github",
        "colab_type": "text"
      },
      "source": [
        "<a href=\"https://colab.research.google.com/github/OliverGawron/AdventOfCode2021/blob/main/AdventOfCode2021.ipynb\" target=\"_parent\"><img src=\"https://colab.research.google.com/assets/colab-badge.svg\" alt=\"Open In Colab\"/></a>"
      ]
    },
    {
      "cell_type": "code",
      "execution_count": null,
      "metadata": {
        "id": "Px68KzIWk5H0"
      },
      "outputs": [],
      "source": [
        "def getDataFromGitHub(day, name):\n",
        "  import requests\n",
        "  repo = 'https://raw.githubusercontent.com/OliverGawron/AdventOfCode2021/47f216a80a6caa8a07ca17404483b351ea5bca69/Data/';\n",
        "  fullpath = repo + 'Day' + str(day) + '_' + name\n",
        "  r = requests.get(fullpath)\n",
        "  return r.text"
      ]
    },
    {
      "cell_type": "markdown",
      "source": [
        "#Day 1\n",
        "Part 1"
      ],
      "metadata": {
        "id": "ypyxl8QYsH7k"
      }
    },
    {
      "cell_type": "code",
      "source": [
        "depths = getDataFromGitHub(1,\"Input\")\n",
        "deptharray = depths.splitlines()\n",
        "\n",
        "SumMeasurementIncreased = 0\n",
        "for i in range(1,len(deptharray)):\n",
        "  if(int(deptharray[i]) > int(deptharray[i-1])):\n",
        "    SumMeasurementIncreased += 1;\n",
        "SumMeasurementIncreased"
      ],
      "metadata": {
        "colab": {
          "base_uri": "https://localhost:8080/"
        },
        "id": "V-MaOqMTsGwV",
        "outputId": "3297c75b-e47f-4bbe-81d5-9a50fa8d6cf3"
      },
      "execution_count": 56,
      "outputs": [
        {
          "output_type": "execute_result",
          "data": {
            "text/plain": [
              "1688"
            ]
          },
          "metadata": {},
          "execution_count": 56
        }
      ]
    },
    {
      "cell_type": "markdown",
      "source": [
        "Part 2"
      ],
      "metadata": {
        "id": "Q9IFjfKszkT5"
      }
    },
    {
      "cell_type": "code",
      "source": [
        "depths = getDataFromGitHub(1,\"Input\")\n",
        "deptharray = depths.splitlines()\n",
        "\n",
        "SumMeasurementIncreased = 0\n",
        "for i in range(0,len(deptharray)-3):\n",
        "  bevore = int(deptharray[i])  #+ int(deptharray[i+1]) + int(deptharray[i+2])   #you dont need the +1 and +2 values, since they are the same\n",
        "  after = int(deptharray[i+3]) #+ int(deptharray[i+1]) + int(deptharray[i+2])\n",
        "  if(after > bevore):\n",
        "    SumMeasurementIncreased += 1;\n",
        "SumMeasurementIncreased"
      ],
      "metadata": {
        "colab": {
          "base_uri": "https://localhost:8080/"
        },
        "id": "JVBGAfeBykAR",
        "outputId": "d824a184-8487-430b-a85b-b20bdccbabda"
      },
      "execution_count": 57,
      "outputs": [
        {
          "output_type": "execute_result",
          "data": {
            "text/plain": [
              "1728"
            ]
          },
          "metadata": {},
          "execution_count": 57
        }
      ]
    }
  ]
}